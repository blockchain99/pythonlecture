{
 "cells": [
  {
   "cell_type": "code",
   "execution_count": 11,
   "metadata": {},
   "outputs": [
    {
     "name": "stdout",
     "output_type": "stream",
     "text": [
      "2\n",
      "numlist : [0, 1, 2, 3, 4, 5, 6, 7, 8, 9] \n",
      "templist: [0, 1, 2, 1, 0, 1, 2, 2, 1, 2]\n"
     ]
    }
   ],
   "source": [
    "#This is run in (base)env , can import numpy (means anaconda works!)\n",
    "# randint(start, end)\n",
    "from random import randint\n",
    "a = randint(0,2) #2 is included!!\n",
    "print(a) #2\n",
    "numlist = []\n",
    "templist = []\n",
    "def randint_add(num):\n",
    "    for x in range(num):\n",
    "        numlist.append(x)\n",
    "        templist.append(randint(0,2))\n",
    "    return numlist, templist\n",
    "result = randint_add(10)    \n",
    "print(f\"numlist : {result[0]} \\ntemplist: {result[1]}\")\n",
    "\n"
   ]
  },
  {
   "cell_type": "markdown",
   "metadata": {},
   "source": [
    "### numpy.random.randint(low, high=None, size=None, dtype='l')¶"
   ]
  },
  {
   "cell_type": "code",
   "execution_count": 17,
   "metadata": {},
   "outputs": [
    {
     "name": "stdout",
     "output_type": "stream",
     "text": [
      "------np.random.randint------\n",
      "1\n",
      "1\n",
      "0\n",
      "[1 0 0 0 0 1 1 0 0 1]\n"
     ]
    }
   ],
   "source": [
    "print(\"------np.random.randint------\")\n",
    "import numpy as np\n",
    "print(np.random.randint(2))\n",
    "print(np.random.randint(2))\n",
    "print(np.random.randint(2))\n",
    "\n",
    "print(np.random.randint(2, size=10)) #[0 0 1 1 0 1 0 1 0 0] #2 is not incl\n"
   ]
  },
  {
   "cell_type": "code",
   "execution_count": 12,
   "metadata": {},
   "outputs": [
    {
     "data": {
      "text/plain": [
       "array([[2, 0, 2, 3],\n",
       "       [1, 3, 4, 4]])"
      ]
     },
     "execution_count": 12,
     "metadata": {},
     "output_type": "execute_result"
    }
   ],
   "source": [
    "np.random.randint(5, size=(2, 4)) #from 0 to 4, 5 is not incl\n",
    "# array([[2, 0, 2, 3],\n",
    "#        [1, 3, 4, 4]])"
   ]
  },
  {
   "cell_type": "code",
   "execution_count": 15,
   "metadata": {},
   "outputs": [
    {
     "data": {
      "text/plain": [
       "array([[4, 8, 2, 2, 3, 4],\n",
       "       [4, 6, 8, 5, 3, 7],\n",
       "       [1, 4, 2, 7, 6, 5],\n",
       "       [7, 1, 2, 1, 4, 4]])"
      ]
     },
     "execution_count": 15,
     "metadata": {},
     "output_type": "execute_result"
    }
   ],
   "source": [
    "np.random.randint(1,9, size=(4, 6)) #start from 1 to 9 random integer \n",
    "# array([[4, 8, 2, 2, 3, 4],\n",
    "#        [4, 6, 8, 5, 3, 7],\n",
    "#        [1, 4, 2, 7, 6, 5],\n",
    "#        [7, 1, 2, 1, 4, 4]])"
   ]
  },
  {
   "cell_type": "code",
   "execution_count": null,
   "metadata": {},
   "outputs": [],
   "source": []
  }
 ],
 "metadata": {
  "kernelspec": {
   "display_name": "Python 3",
   "language": "python",
   "name": "python3"
  },
  "language_info": {
   "codemirror_mode": {
    "name": "ipython",
    "version": 3
   },
   "file_extension": ".py",
   "mimetype": "text/x-python",
   "name": "python",
   "nbconvert_exporter": "python",
   "pygments_lexer": "ipython3",
   "version": "3.7.4"
  }
 },
 "nbformat": 4,
 "nbformat_minor": 2
}
